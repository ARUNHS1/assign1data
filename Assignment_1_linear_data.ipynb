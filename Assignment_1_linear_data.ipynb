{
 "cells": [
  {
   "cell_type": "markdown",
   "metadata": {},
   "source": [
    "Solve these questions in a Jupyter notebook. Share the URL of the Jupyter notebook/GitHub.\n",
    "\n",
    "Q1. Write a program to find all pairs of an integer array whose sum is equal to a given number?\n",
    "\n",
    "Q2. Write a program to reverse an array in place? In place means you cannot create a new array. You have to update the original array.\n",
    "\n",
    "Q3. Write a program to check if two strings are a rotation of each other?\n",
    "\n",
    "Q4. Write a program to print the first non-repeated character from a string?\n",
    "\n",
    "Q5. Read about the Tower of Hanoi algorithm. Write a program to implement it.\n",
    "\n",
    "Q6. Read about infix, prefix, and postfix expressions. Write a program to convert postfix to prefix expression.\n",
    "\n",
    "Q7. Write a program to convert prefix expression to infix expression.\n",
    "\n",
    "Q8. Write a program to check if all the brackets are closed in a given code snippet.\n",
    "\n",
    "Q9. Write a program to reverse a stack.\n",
    "\n",
    "Q10. Write a program to find the smallest number using a stack"
   ]
  },
  {
   "cell_type": "code",
   "execution_count": 1,
   "metadata": {},
   "outputs": [
    {
     "name": "stdout",
     "output_type": "stream",
     "text": [
      "Pairs with sum 7: [(3, 4), (5, 2), (4, 3), (9, -2)]\n"
     ]
    }
   ],
   "source": [
    "#Q1\n",
    "def find_pairs_with_sum(arr, target_sum):\n",
    "    pairs = []\n",
    "    seen = set()\n",
    "\n",
    "    for num in arr:\n",
    "        complement = target_sum - num\n",
    "        if complement in seen:\n",
    "            pairs.append((num, complement))\n",
    "        seen.add(num)\n",
    "\n",
    "    return pairs\n",
    "\n",
    "# Example usage:\n",
    "arr = [2, 4, 3, 5, 6, -2, 4, 7, 8, 9]\n",
    "target = 7\n",
    "result = find_pairs_with_sum(arr, target)\n",
    "print(f\"Pairs with sum {target}: {result}\")\n"
   ]
  },
  {
   "cell_type": "code",
   "execution_count": 2,
   "metadata": {},
   "outputs": [
    {
     "name": "stdout",
     "output_type": "stream",
     "text": [
      "Reversed Array: [5, 4, 3, 2, 1]\n"
     ]
    }
   ],
   "source": [
    "#Q2\n",
    "def reverse_array(arr):\n",
    "    start = 0\n",
    "    end = len(arr) - 1\n",
    "\n",
    "    while start < end:\n",
    "        arr[start], arr[end] = arr[end], arr[start]\n",
    "        start += 1\n",
    "        end -= 1\n",
    "\n",
    "# Example usage:\n",
    "arr = [1, 2, 3, 4, 5]\n",
    "reverse_array(arr)\n",
    "print(\"Reversed Array:\", arr)\n"
   ]
  },
  {
   "cell_type": "code",
   "execution_count": 3,
   "metadata": {},
   "outputs": [
    {
     "name": "stdout",
     "output_type": "stream",
     "text": [
      "'hello' and 'lohel' are rotations: True\n"
     ]
    }
   ],
   "source": [
    "#Q3\n",
    "def are_rotations(str1, str2):\n",
    "    if len(str1) != len(str2):\n",
    "        return False\n",
    "\n",
    "    concatenated = str1 + str1\n",
    "    if str2 in concatenated:\n",
    "        return True\n",
    "    else:\n",
    "        return False\n",
    "\n",
    "# Example usage:\n",
    "string1 = \"hello\"\n",
    "string2 = \"lohel\"\n",
    "result = are_rotations(string1, string2)\n",
    "print(f\"'{string1}' and '{string2}' are rotations: {result}\")\n"
   ]
  },
  {
   "cell_type": "code",
   "execution_count": 4,
   "metadata": {},
   "outputs": [
    {
     "name": "stdout",
     "output_type": "stream",
     "text": [
      "First non-repeated character: n\n"
     ]
    }
   ],
   "source": [
    "#Q4\n",
    "from collections import Counter\n",
    "\n",
    "def first_non_repeated_char(s):\n",
    "    char_count = Counter(s)\n",
    "\n",
    "    for char in s:\n",
    "        if char_count[char] == 1:\n",
    "            return char\n",
    "\n",
    "    return None  # Return None if there's no non-repeated character\n",
    "\n",
    "# Example usage:\n",
    "input_string = \"minimum\"\n",
    "result = first_non_repeated_char(input_string)\n",
    "print(\"First non-repeated character:\", result)\n"
   ]
  },
  {
   "cell_type": "code",
   "execution_count": 5,
   "metadata": {},
   "outputs": [
    {
     "name": "stdout",
     "output_type": "stream",
     "text": [
      "Move disk 1 from A to C\n",
      "Move disk 2 from A to B\n",
      "Move disk 1 from C to B\n",
      "Move disk 3 from A to C\n",
      "Move disk 1 from B to A\n",
      "Move disk 2 from B to C\n",
      "Move disk 1 from A to C\n"
     ]
    }
   ],
   "source": [
    "#Q5\n",
    "def tower_of_hanoi(n, source, target, auxiliary):\n",
    "    if n > 0:\n",
    "        # Move n-1 disks from source to auxiliary, using target as auxiliary\n",
    "        tower_of_hanoi(n - 1, source, auxiliary, target)\n",
    "        # Move the nth disk from source to target\n",
    "        print(f\"Move disk {n} from {source} to {target}\")\n",
    "        # Move n-1 disks from auxiliary to target, using source as auxiliary\n",
    "        tower_of_hanoi(n - 1, auxiliary, target, source)\n",
    "\n",
    "# Example usage:\n",
    "num_disks = 3\n",
    "tower_of_hanoi(num_disks, 'A', 'C', 'B')\n"
   ]
  },
  {
   "cell_type": "code",
   "execution_count": 6,
   "metadata": {},
   "outputs": [
    {
     "name": "stdout",
     "output_type": "stream",
     "text": [
      "Prefix expression: -*+abcd\n"
     ]
    }
   ],
   "source": [
    "#Q6\n",
    "def is_operand(c):\n",
    "    return c.isalnum()\n",
    "\n",
    "def postfix_to_prefix(expression):\n",
    "    stack = []\n",
    "    operators = set(['+', '-', '*', '/', '^'])\n",
    "\n",
    "    for char in expression:\n",
    "        if is_operand(char):\n",
    "            stack.append(char)\n",
    "        else:\n",
    "            operand1 = stack.pop()\n",
    "            operand2 = stack.pop()\n",
    "            stack.append(char + operand2 + operand1)\n",
    "\n",
    "    return stack.pop()\n",
    "\n",
    "# Example usage:\n",
    "postfix_expr = \"ab+c*d-\"\n",
    "prefix_expr = postfix_to_prefix(postfix_expr)\n",
    "print(\"Prefix expression:\", prefix_expr)\n"
   ]
  },
  {
   "cell_type": "code",
   "execution_count": 16,
   "metadata": {},
   "outputs": [
    {
     "name": "stdout",
     "output_type": "stream",
     "text": [
      "Infix expression: ((a+(b*c))-((d-e)/(f+1)))\n"
     ]
    }
   ],
   "source": [
    "def is_operator(c):\n",
    "    return c in ['+', '-', '*', '/', '^']\n",
    "\n",
    "def prefix_to_infix(expression):\n",
    "    stack = [1]\n",
    "\n",
    "    for char in expression[::-1]:\n",
    "        if is_operator(char):\n",
    "            operand1 = stack.pop()\n",
    "            operand2 = stack.pop()\n",
    "            stack.append(f\"({operand1}{char}{operand2})\")\n",
    "        else:\n",
    "            stack.append(char)\n",
    "\n",
    "    return stack.pop()\n",
    "\n",
    "# Example usage:\n",
    "prefix_expr = \"-+a*bc/-de+f\"\n",
    "infix_expr = prefix_to_infix(prefix_expr)\n",
    "print(\"Infix expression:\", infix_expr)\n"
   ]
  },
  {
   "cell_type": "code",
   "execution_count": 9,
   "metadata": {},
   "outputs": [
    {
     "name": "stdout",
     "output_type": "stream",
     "text": [
      "Brackets are balanced: True\n"
     ]
    }
   ],
   "source": [
    "#Q8\n",
    "def are_brackets_balanced(code):\n",
    "    stack = []\n",
    "    brackets = {')': '(', '}': '{', ']': '['}\n",
    "\n",
    "    for char in code:\n",
    "        if char in brackets.values():\n",
    "            stack.append(char)\n",
    "        elif char in brackets.keys():\n",
    "            if not stack or brackets[char] != stack.pop():\n",
    "                return False\n",
    "\n",
    "    return len(stack) == 0\n",
    "\n",
    "# Example usage:\n",
    "code_snippet = \"(a + b) * {[c - d] / e}\"\n",
    "result = are_brackets_balanced(code_snippet)\n",
    "print(\"Brackets are balanced:\", result)\n"
   ]
  },
  {
   "cell_type": "code",
   "execution_count": 13,
   "metadata": {},
   "outputs": [
    {
     "name": "stdout",
     "output_type": "stream",
     "text": [
      "Reversed stack: [5, 4, 3, 2, 1]\n"
     ]
    }
   ],
   "source": [
    "#Q9\n",
    "def reverse_stack(stack):\n",
    "    if not stack:\n",
    "        return\n",
    "\n",
    "    temp = stack.pop()\n",
    "    reverse_stack(stack)\n",
    "    _insert_at_bottom(stack, temp)\n",
    "\n",
    "def _insert_at_bottom(stack, item):\n",
    "    if not stack:\n",
    "        stack.append(item)\n",
    "        return\n",
    "\n",
    "    temp = stack.pop()\n",
    "    _insert_at_bottom(stack, item)\n",
    "    stack.append(temp)\n",
    "\n",
    "# Example usage:\n",
    "stack_to_reverse = [1, 2, 3, 4, 5]\n",
    "reverse_stack(stack_to_reverse)\n",
    "print(\"Reversed stack:\", stack_to_reverse)\n"
   ]
  },
  {
   "cell_type": "code",
   "execution_count": 12,
   "metadata": {},
   "outputs": [
    {
     "name": "stdout",
     "output_type": "stream",
     "text": [
      "Smallest number in stack: 1\n"
     ]
    }
   ],
   "source": [
    "#Q10\n",
    "class MinStack:\n",
    "    def __init__(self):\n",
    "        self.stack = []\n",
    "        self.min_stack = []\n",
    "\n",
    "    def push(self, val):\n",
    "        self.stack.append(val)\n",
    "        if not self.min_stack or val <= self.min_stack[-1]:\n",
    "            self.min_stack.append(val)\n",
    "\n",
    "    def pop(self):\n",
    "        if self.stack[-1] == self.min_stack[-1]:\n",
    "            self.min_stack.pop()\n",
    "        return self.stack.pop()\n",
    "\n",
    "    def top(self):\n",
    "        return self.stack[-1]\n",
    "\n",
    "    def get_min(self):\n",
    "        return self.min_stack[-1]\n",
    "\n",
    "# Example usage:\n",
    "stack = MinStack()\n",
    "stack.push(3)\n",
    "stack.push(5)\n",
    "stack.push(2)\n",
    "stack.push(1)\n",
    "\n",
    "print(\"Smallest number in stack:\", stack.get_min())\n"
   ]
  },
  {
   "cell_type": "code",
   "execution_count": null,
   "metadata": {},
   "outputs": [],
   "source": []
  }
 ],
 "metadata": {
  "kernelspec": {
   "display_name": "Python 3",
   "language": "python",
   "name": "python3"
  },
  "language_info": {
   "codemirror_mode": {
    "name": "ipython",
    "version": 3
   },
   "file_extension": ".py",
   "mimetype": "text/x-python",
   "name": "python",
   "nbconvert_exporter": "python",
   "pygments_lexer": "ipython3",
   "version": "3.12.0"
  }
 },
 "nbformat": 4,
 "nbformat_minor": 2
}
